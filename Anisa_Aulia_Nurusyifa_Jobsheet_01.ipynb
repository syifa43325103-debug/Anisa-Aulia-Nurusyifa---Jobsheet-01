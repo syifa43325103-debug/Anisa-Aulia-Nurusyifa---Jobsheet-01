{
  "nbformat": 4,
  "nbformat_minor": 0,
  "metadata": {
    "colab": {
      "provenance": [],
      "authorship_tag": "ABX9TyOG7kyj+wRwhSEk4LXefOKR",
      "include_colab_link": true
    },
    "kernelspec": {
      "name": "python3",
      "display_name": "Python 3"
    },
    "language_info": {
      "name": "python"
    }
  },
  "cells": [
    {
      "cell_type": "markdown",
      "metadata": {
        "id": "view-in-github",
        "colab_type": "text"
      },
      "source": [
        "<a href=\"https://colab.research.google.com/github/syifa43325103-debug/Anisa-Aulia-Nurusyifa---Jobsheet-01/blob/main/Anisa_Aulia_Nurusyifa_Jobsheet_01.ipynb\" target=\"_parent\"><img src=\"https://colab.research.google.com/assets/colab-badge.svg\" alt=\"Open In Colab\"/></a>"
      ]
    },
    {
      "cell_type": "markdown",
      "source": [
        "Praktikum 01. Menghitung Luas Persegi Panjang"
      ],
      "metadata": {
        "id": "OJ5TOGdgRnFp"
      }
    },
    {
      "cell_type": "code",
      "source": [
        " p = int(input(\"Masukkan panjang: \"))\n",
        " l = int(input(\"Masukkan lebar: \"))\n",
        " luas = p * l\n",
        " print(\"Luas Persegi Panjang = \", luas)"
      ],
      "metadata": {
        "colab": {
          "base_uri": "https://localhost:8080/"
        },
        "id": "2JOSpn4bQXTy",
        "outputId": "7b73e073-cb6a-419c-cd64-d1b747ed8aa6"
      },
      "execution_count": null,
      "outputs": [
        {
          "output_type": "stream",
          "name": "stdout",
          "text": [
            "Masukkan panjang: 4\n",
            "Masukkan lebar: 5\n",
            "Luas Persegi Panjang =  20\n"
          ]
        }
      ]
    },
    {
      "cell_type": "markdown",
      "source": [
        "Praktikum 02. Menghitung Luas Segitiga"
      ],
      "metadata": {
        "id": "EelEcOcsR_6L"
      }
    },
    {
      "cell_type": "code",
      "source": [
        "import math\n",
        "a = float(input(\"Masukkan sisi a: \"))\n",
        "b = float(input(\"Masukkan sisi b: \"))\n",
        "c = float(input(\"Masukkan sisi c: \"))\n",
        "s = (a + b + c) / 2\n",
        "luas = math.sqrt(s * (s - a) * (s - b) * (s - c))\n",
        "print(\"Luas segitiga =\", luas)"
      ],
      "metadata": {
        "colab": {
          "base_uri": "https://localhost:8080/"
        },
        "id": "gI4gXENZTC2K",
        "outputId": "d9d0ba12-4267-45b9-90bb-797d199c55ac"
      },
      "execution_count": null,
      "outputs": [
        {
          "output_type": "stream",
          "name": "stdout",
          "text": [
            "Masukkan sisi a: 9\n",
            "Masukkan sisi b: 8\n",
            "Masukkan sisi c: 10\n",
            "Luas segitiga = 34.197039345533994\n"
          ]
        }
      ]
    },
    {
      "cell_type": "markdown",
      "source": [
        "Praktikum 03. Menghitung Konversi Suhu Celcius ke Fahrenheit"
      ],
      "metadata": {
        "id": "yrKrQXLBSSDe"
      }
    },
    {
      "cell_type": "code",
      "source": [
        "c = float(input(\"Masukkan suhu (C): \"))\n",
        "f = (c * 9/5) + 32\n",
        "print(\"Hasil konversi =\", f, \"F\")\n"
      ],
      "metadata": {
        "colab": {
          "base_uri": "https://localhost:8080/"
        },
        "id": "OzuRzIRqTzHO",
        "outputId": "c10d090a-7f30-4e35-c92a-23e6dd59494d"
      },
      "execution_count": null,
      "outputs": [
        {
          "output_type": "stream",
          "name": "stdout",
          "text": [
            "Masukkan suhu (C): 8\n",
            "Hasil konversi = 46.4 F\n"
          ]
        }
      ]
    },
    {
      "cell_type": "markdown",
      "source": [
        "Praktikum 04. Menghitung Umur Berdasarkan Tahun Lahir"
      ],
      "metadata": {
        "id": "AR4tQoYAUd_F"
      }
    },
    {
      "cell_type": "code",
      "source": [
        "tahun_lahir = int(input(\"Masukkan tahun lahir: \"))\n",
        "tahun_sekarang = int(input(\"Masukkan tahun sekarang:\"))\n",
        "umur = tahun_sekarang - tahun_lahir\n",
        "print(\"Umur anda =\", umur, \"tahun\")"
      ],
      "metadata": {
        "colab": {
          "base_uri": "https://localhost:8080/"
        },
        "id": "Loi9Ti6cVEVd",
        "outputId": "115a84fe-c64e-4b02-c04b-366fdb5870e2"
      },
      "execution_count": null,
      "outputs": [
        {
          "output_type": "stream",
          "name": "stdout",
          "text": [
            "Masukkan tahun lahir: 2007\n",
            "Masukkan tahun sekarang:2025\n",
            "Umur anda = 18 tahun\n"
          ]
        }
      ]
    },
    {
      "cell_type": "markdown",
      "source": [
        "Praktikum 05. Menghitung Luas Lingkaran"
      ],
      "metadata": {
        "id": "BgyNvxTwXDoY"
      }
    },
    {
      "cell_type": "code",
      "source": [
        "import math\n",
        "r = float(input(\"Masukkan jari-jari: \"))\n",
        "luas = math.pi * r * r\n",
        "print(\"Luas lingkaran =\", luas)\n"
      ],
      "metadata": {
        "colab": {
          "base_uri": "https://localhost:8080/"
        },
        "id": "5maAIoT6WqYl",
        "outputId": "9a9ba416-fbbb-438e-a65b-8170afaaef37"
      },
      "execution_count": null,
      "outputs": [
        {
          "output_type": "stream",
          "name": "stdout",
          "text": [
            "Masukkan jari-jari: 8\n",
            "Luas lingkaran = 201.06192982974676\n"
          ]
        }
      ]
    },
    {
      "cell_type": "markdown",
      "source": [
        "Praktikum 06. Jumlah Tiga Bilangan\n"
      ],
      "metadata": {
        "id": "qutMaeksX_7L"
      }
    },
    {
      "cell_type": "code",
      "source": [
        "a = int (input(\"Masukkan bilangan pertama: \"))\n",
        "b = int (input(\"Masukkan bilangan kedua: \"))\n",
        "c = int (input(\"Masukkan bilangan ketiga: \"))\n",
        "jumlah = a + b + c\n",
        "print(\"Jumlah =\", jumlah)\n",
        "\n"
      ],
      "metadata": {
        "colab": {
          "base_uri": "https://localhost:8080/"
        },
        "id": "MkPQw6TgXoHs",
        "outputId": "dd76f064-b9a7-466f-d629-765cb5f233aa"
      },
      "execution_count": null,
      "outputs": [
        {
          "output_type": "stream",
          "name": "stdout",
          "text": [
            "Masukkan bilangan pertama: 4\n",
            "Masukkan bilangan kedua: 5\n",
            "Masukkan bilangan ketiga: 8\n",
            "Jumlah = 17\n"
          ]
        }
      ]
    },
    {
      "cell_type": "markdown",
      "source": [
        "Volume Balok"
      ],
      "metadata": {
        "id": "A7EXIw2yq2Gp"
      }
    },
    {
      "cell_type": "code",
      "source": [
        "a = float(input(\"Masukkan panjang balok: \"))\n",
        "b = float(input(\"Masukkan lebar balok: \"))\n",
        "c = float(input(\"Masukkan tinggi balok: \"))\n",
        "volume = a * b * c\n",
        "print(\"Volume balok =\", volume)"
      ],
      "metadata": {
        "id": "Ii8N1GaLoVzB",
        "colab": {
          "base_uri": "https://localhost:8080/"
        },
        "outputId": "225403e3-c643-46fc-fcc9-6e4ac53b5a62"
      },
      "execution_count": null,
      "outputs": [
        {
          "output_type": "stream",
          "name": "stdout",
          "text": [
            "Masukkan panjang balok: 8\n",
            "Masukkan lebar balok: 9\n",
            "Masukkan tinggi balok: 6\n",
            "Volume balok = 432.0\n"
          ]
        }
      ]
    },
    {
      "cell_type": "markdown",
      "source": [
        "Konversi Waktu (Detik ke Jam:Menit:Detik)"
      ],
      "metadata": {
        "id": "uV93B_8bXvQF"
      }
    },
    {
      "cell_type": "code",
      "source": [
        "jumlah_detik = int(input(\"Masukkan waktu dalam detik: \"))\n",
        "\n",
        "jam = jumlah_detik // 3600\n",
        "sisa_detik = jumlah_detik % 3600\n",
        "menit = sisa_detik // 60\n",
        "detik = sisa_detik % 60\n",
        "\n",
        "print(f\"{jam} jam, {menit} menit, {detik} detik\")"
      ],
      "metadata": {
        "colab": {
          "base_uri": "https://localhost:8080/"
        },
        "id": "l0BKgvciF4M-",
        "outputId": "e8615ec8-9035-4aa3-8364-45efd5813270"
      },
      "execution_count": null,
      "outputs": [
        {
          "output_type": "stream",
          "name": "stdout",
          "text": [
            "Masukkan waktu dalam detik: 3670\n",
            "1 jam, 1 menit, 10 detik\n"
          ]
        }
      ]
    },
    {
      "cell_type": "markdown",
      "source": [
        "Rata-rata Nilai Tiga Mata Kuliah"
      ],
      "metadata": {
        "id": "fSRJdI6CG0mP"
      }
    },
    {
      "cell_type": "code",
      "source": [
        "a = float(input(\"Masukkan nilai mata kuliah 1\"))\n",
        "b = float(input(\"Masukkan nilai mata kuliah 2\"))\n",
        "c = float(input(\"Masukkan nilai mata kuliah 3\"))\n",
        "rata_rata = (a + b + c) / 3\n",
        "print(\"rata_rata =\", rata_rata)\n",
        "if rata_rata <= 60:\n",
        "  print(\"Tidak Lulus\")\n",
        "if rata_rata >= 60:\n",
        "  print(\"Lulus\")\n"
      ],
      "metadata": {
        "colab": {
          "base_uri": "https://localhost:8080/"
        },
        "id": "vDxaZsUOHJ5_",
        "outputId": "51960e35-202b-48a2-8aad-64e18bf40677"
      },
      "execution_count": null,
      "outputs": [
        {
          "output_type": "stream",
          "name": "stdout",
          "text": [
            "Masukkan nilai mata kuliah 160\n",
            "Masukkan nilai mata kuliah 280\n",
            "Masukkan nilai mata kuliah 375\n",
            "rata_rata = 71.66666666666667\n",
            "Lulus\n"
          ]
        }
      ]
    },
    {
      "cell_type": "markdown",
      "source": [
        "Menghitung Diskon Belanja"
      ],
      "metadata": {
        "id": "POGRmehEl5Wk"
      }
    },
    {
      "cell_type": "code",
      "source": [
        "total_belanja=float(input(\"Masukkan total belanja:\" ))\n",
        "if total_belanja >= 500000:\n",
        "  diskon = total_belanja * 0.20\n",
        "elif total_belanja >= 250000:\n",
        "  diskon = total_belanja * 0.10\n",
        "else : diskon = 0\n",
        "total_bayar = total_belanja - diskon\n",
        "print(\"Total bayar setelah diskon =\", total_bayar)"
      ],
      "metadata": {
        "id": "Iu8zWsezVH_S",
        "colab": {
          "base_uri": "https://localhost:8080/"
        },
        "outputId": "5c093e4e-561b-4da5-9f0b-474ad1a7c733"
      },
      "execution_count": 3,
      "outputs": [
        {
          "output_type": "stream",
          "name": "stdout",
          "text": [
            "Masukkan total belanja:650000\n",
            "Total bayar setelah diskon = 520000.0\n"
          ]
        }
      ]
    },
    {
      "cell_type": "code",
      "source": [],
      "metadata": {
        "id": "GjtD0280neqI"
      },
      "execution_count": null,
      "outputs": []
    }
  ]
}