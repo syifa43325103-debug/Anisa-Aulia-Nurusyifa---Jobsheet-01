{
  "nbformat": 4,
  "nbformat_minor": 0,
  "metadata": {
    "colab": {
      "provenance": [],
      "authorship_tag": "ABX9TyNozvzDOuZT9+gVgb8fOdIM",
      "include_colab_link": true
    },
    "kernelspec": {
      "name": "python3",
      "display_name": "Python 3"
    },
    "language_info": {
      "name": "python"
    }
  },
  "cells": [
    {
      "cell_type": "markdown",
      "metadata": {
        "id": "view-in-github",
        "colab_type": "text"
      },
      "source": [
        "<a href=\"https://colab.research.google.com/github/syifa43325103-debug/Anisa-Aulia-Nurusyifa---Jobsheet-01/blob/main/Anisa_Aulia_Nurusyifa_Jobsheet_02.ipynb\" target=\"_parent\"><img src=\"https://colab.research.google.com/assets/colab-badge.svg\" alt=\"Open In Colab\"/></a>"
      ]
    },
    {
      "cell_type": "markdown",
      "source": [
        "Praktikum 01 - Pengenalan Variable dan Tipe Data"
      ],
      "metadata": {
        "id": "YDgFnzHGKzHM"
      }
    },
    {
      "cell_type": "code",
      "execution_count": null,
      "metadata": {
        "colab": {
          "base_uri": "https://localhost:8080/"
        },
        "id": "5Afye_pRHJrP",
        "outputId": "ef066068-5779-434d-8d44-dbbe133a3aec"
      },
      "outputs": [
        {
          "output_type": "stream",
          "name": "stdout",
          "text": [
            "Umur: 20 -> <class 'int'>\n",
            "Tinggi: 170.5 -> <class 'float'>\n",
            "Nama: Andi -> <class 'str'>\n",
            "Status Mahasiswa: True -> <class 'bool'>\n",
            "Nilai [80, 85, 90] -> <class 'list'>\n",
            "Koordinat: (10, 20) -> <class 'tuple'>\n",
            "Data Mahasiswa: {'nama': 'Andi', 'umur': 20, 'prodi': 'TRK'} -> <class 'dict'>\n",
            "Hobi: {'musik', 'olahraga', 'membaca'} -> {'musik', 'olahraga', 'membaca'}\n"
          ]
        }
      ],
      "source": [
        "# Integer\n",
        "umur = 20\n",
        "print(\"Umur:\", umur, \"->\", type (umur))\n",
        "\n",
        "# Float\n",
        "tinggi = 170.5\n",
        "print(\"Tinggi:\", tinggi, \"->\", type (tinggi))\n",
        "\n",
        "# String\n",
        "nama = \"Andi\"\n",
        "print(\"Nama:\",nama, \"->\", type (nama))\n",
        "\n",
        "# Boolean\n",
        "is_mahasiswa = True\n",
        "print(\"Status Mahasiswa:\", is_mahasiswa, \"->\", type(is_mahasiswa))\n",
        "\n",
        "# List\n",
        "nilai = [80, 85, 90]\n",
        "print(\"Nilai\", nilai, \"->\", type (nilai))\n",
        "\n",
        "# Tuple\n",
        "koordinat = (10, 20)\n",
        "print(\"Koordinat:\", koordinat, \"->\", type (koordinat))\n",
        "\n",
        "# Dictionary\n",
        "mahasiswa = {\"nama\": \"Andi\", \"umur\":20, \"prodi\": \"TRK\"}\n",
        "print (\"Data Mahasiswa:\", mahasiswa, \"->\", type(mahasiswa))\n",
        "\n",
        "# Set\n",
        "hobi = {\"membaca\", \"olahraga\", \"musik\"}\n",
        "print(\"Hobi:\", hobi, \"->\", (hobi))"
      ]
    },
    {
      "cell_type": "markdown",
      "source": [
        "Praktikum 02 - Input dan Output Dasar"
      ],
      "metadata": {
        "id": "uSFUl4RhK9pG"
      }
    },
    {
      "cell_type": "code",
      "source": [
        "# Input string\n",
        "nama = input(\"Masukkan nama Anda:\")\n",
        "\n",
        "# Input integer\n",
        "umur = int(input(\"Masukkan umur Anda:\"))\n",
        "\n",
        "# Input float\n",
        "tinggi = float(input(\"Masukkan tinggi badan (cm):\"))\n",
        "\n",
        "# Output standar\n",
        "print(\"Halo,\", nama, \"umur Anda:\", umur, \"tahun, tinggi:\", tinggi, \"cm\")\n",
        "\n",
        "# Output dengan format ()\n",
        "print(\"Halo {0}, umur Anda {1} tahun, tinggi {2} cm\".format(nama, umur, tinggi))\n",
        "\n",
        "# Output dengan f-string\n",
        "print(f\"Halo {nama}, umur Anda {umur} tahun, tinggi {tinggi} cm\")\n"
      ],
      "metadata": {
        "colab": {
          "base_uri": "https://localhost:8080/"
        },
        "id": "QqoVNaYPKrML",
        "outputId": "de211b04-d1d7-4f74-a502-70f194cc9435"
      },
      "execution_count": null,
      "outputs": [
        {
          "output_type": "stream",
          "name": "stdout",
          "text": [
            "Masukkan nama Anda:syifa\n",
            "Masukkan umur Anda:18\n",
            "Masukkan tinggi badan (cm):160\n",
            "Halo, syifa umur Anda: 18 tahun, tinggi: 160.0 cm\n",
            "Halo syifa, umur Anda 18 tahun, tinggi 160.0 cm\n",
            "Halo syifa, umur Anda 18 tahun, tinggi 160.0 cm\n"
          ]
        }
      ]
    },
    {
      "cell_type": "markdown",
      "source": [
        "Praktikum 03 - Operator Aritmatika"
      ],
      "metadata": {
        "id": "QVB_lFDXN_UW"
      }
    },
    {
      "cell_type": "code",
      "source": [
        "a = 15\n",
        "b = 4\n",
        "\n",
        "print(\"a + b =\", a + b)\n",
        "print(\"a - b =\", a - b)\n",
        "print(\"a * b =\", a * b)\n",
        "print(\"a / b =\", a / b)\n",
        "print(\"a // b =\", a // b)\n",
        "print(\"a % b =\", a % b)\n",
        "print(\"a ** b =\", a ** b)\n",
        "# Hasil program menunjukkan bahwa Python mampu melakukan perhitungan dasar dengan operator yang sederhana dan intuitif."
      ],
      "metadata": {
        "colab": {
          "base_uri": "https://localhost:8080/"
        },
        "id": "5WT-HEtEOFu_",
        "outputId": "c92fc63c-d1eb-4caa-c150-8308c7347844"
      },
      "execution_count": null,
      "outputs": [
        {
          "output_type": "stream",
          "name": "stdout",
          "text": [
            "a + b = 19\n",
            "a - b = 11\n",
            "a * b = 60\n",
            "a / b = 3.75\n",
            "a // b = 3\n",
            "a % b = 3\n",
            "a ** b = 50625\n"
          ]
        }
      ]
    },
    {
      "cell_type": "markdown",
      "source": [
        "Praktikum 04 - Operator Rasional"
      ],
      "metadata": {
        "id": "pBt_QTpPP-uU"
      }
    },
    {
      "cell_type": "code",
      "source": [
        "x = 10\n",
        "y = 20\n",
        "\n",
        "print(\"x == y:\", x == y)\n",
        "print(\"x != y:\", x != y)\n",
        "print(\"x > y:\", x > y)\n",
        "print(\"x < y:\", x < y)\n",
        "print(\"x >= y:\", x >= y)\n",
        "print(\"x <= y:\", x <= y)"
      ],
      "metadata": {
        "colab": {
          "base_uri": "https://localhost:8080/"
        },
        "id": "VFgMeZekPzC0",
        "outputId": "6c8d4d3f-0e96-411a-8f79-24aeb185e764"
      },
      "execution_count": null,
      "outputs": [
        {
          "output_type": "stream",
          "name": "stdout",
          "text": [
            "x == y: False\n",
            "x != y: True\n",
            "x > y: False\n",
            "x < y: True\n",
            "x >= y: False\n",
            "x <= y: True\n"
          ]
        }
      ]
    },
    {
      "cell_type": "markdown",
      "source": [
        "Praktikum 05 - Operator Logika dengan Studi Kasus Nyata"
      ],
      "metadata": {
        "id": "GLWkszGWQWoU"
      }
    },
    {
      "cell_type": "code",
      "source": [
        "# Operator logika dasar\n",
        "a = True\n",
        "b = False\n",
        "\n",
        "print(\"a and b =\", a and b)\n",
        "print(\"a or b =\", a or b)\n",
        "print(\"not a =\", not a)\n",
        "\n",
        "# Studi kasus nyata: kelulusan\n",
        "nilai = int(input(\"Masukkan nilai ujian:\"))\n",
        "hadir = int(input(\"Masukkan jumlah kehadiran:\"))\n",
        "\n",
        "lulus_nilai = nilai >= 60\n",
        "lulus_hadir = hadir >= 12 # dari 16 pertemuan\n",
        "\n",
        "if lulus_nilai and lulus_hadir:\n",
        "  print(\"Status: LULUS\")\n",
        "else:\n",
        "  print(\"Status: TIDAK LULUS\")\n",
        "\n",
        "\n"
      ],
      "metadata": {
        "colab": {
          "base_uri": "https://localhost:8080/"
        },
        "id": "Jykqfb0HNpG6",
        "outputId": "d7c67cc7-117a-43ac-f310-5c767d3cab2b"
      },
      "execution_count": null,
      "outputs": [
        {
          "output_type": "stream",
          "name": "stdout",
          "text": [
            "a and b = False\n",
            "a or b = True\n",
            "not a = False\n",
            "Masukkan nilai ujian:65\n",
            "Masukkan jumlah kehadiran:16\n",
            "Status: LULUS\n"
          ]
        }
      ]
    },
    {
      "cell_type": "markdown",
      "source": [
        "Praktikum 06 - Program Kasir Sederhana"
      ],
      "metadata": {
        "id": "THEn7LAOs6gj"
      }
    },
    {
      "cell_type": "code",
      "source": [
        "barang = input(\"Masukkan nama barang: \")\n",
        "harga = float(input(\"Masukkan harga barang:\"))\n",
        "jumlah = int(input(\"Masukkan jumlah barang:\"))\n",
        "\n",
        "total = harga + jumlah\n",
        "\n",
        "# Aturan diskon\n",
        "if total >= 500000:\n",
        "  diskon = 0.2\n",
        "elif total >= 250000:\n",
        "  diskon = 0.1\n",
        "else:\n",
        "  diskon = 0\n",
        "\n",
        "potongan = total * diskon\n",
        "bayar = total - potongan\n",
        "\n",
        "print (\"\\n===== Struk Belanja =====\")\n",
        "print(f\"Barang : {barang}\")\n",
        "print(f\"Jumlah : {jumlah}\")\n",
        "print(f\"Total : Rp {total}\")\n",
        "print(f\"Diskon : {diskon * 100}%\")\n",
        "print(f\"Bayar : Rp {bayar}\")\n",
        "\n"
      ],
      "metadata": {
        "colab": {
          "base_uri": "https://localhost:8080/"
        },
        "id": "mVYAfiEyr6_j",
        "outputId": "df1b43af-ecd5-4689-c483-2a63b4f93c0d"
      },
      "execution_count": null,
      "outputs": [
        {
          "output_type": "stream",
          "name": "stdout",
          "text": [
            "Masukkan nama barang: pensil\n",
            "Masukkan harga barang:500000\n",
            "Masukkan jumlah barang:2\n",
            "\n",
            "===== Struk Belanja =====\n",
            "Barang : pensil\n",
            "Jumlah : 2\n",
            "Total : Rp 500002.0\n",
            "Diskon : 20.0%\n",
            "Bayar : Rp 400001.6\n"
          ]
        }
      ]
    },
    {
      "cell_type": "markdown",
      "source": [
        "Identitas Mahasiswa"
      ],
      "metadata": {
        "id": "gyIPUu5VwBys"
      }
    },
    {
      "cell_type": "code",
      "source": [
        "nama = str(input(\"Masukkan nama Anda:\"))\n",
        "umur = int(input(\"Masukkan umur Anda:\"))\n",
        "tinggi = float(input(\"Masukkan tinggi badan (cm):\"))\n",
        "status_aktif = True\n",
        "\n",
        "print (f\"Halo {nama}, umur saya {umur} tahun, tinggi {tinggi} cm, status aktif {status_aktif}\")"
      ],
      "metadata": {
        "colab": {
          "base_uri": "https://localhost:8080/"
        },
        "id": "af6cme0_vUnF",
        "outputId": "9dc7c227-0b8c-4844-f014-ef27329d0e23"
      },
      "execution_count": null,
      "outputs": [
        {
          "output_type": "stream",
          "name": "stdout",
          "text": [
            "Masukkan nama Anda:syifa\n",
            "Masukkan umur Anda:18\n",
            "Masukkan tinggi badan (cm):160\n",
            "Halo syifa, umur saya 18 tahun, tinggi 160.0 cm, status aktif True\n"
          ]
        }
      ]
    },
    {
      "cell_type": "markdown",
      "source": [
        "Operasi Aritmatika"
      ],
      "metadata": {
        "id": "zxnnMuWUyf6I"
      }
    },
    {
      "cell_type": "code",
      "source": [
        "a = 10\n",
        "b = 5\n",
        "\n",
        "print(\"a + b =\", a + b)\n",
        "print(\"a - b =\", a - b)\n",
        "print(\"a * b =\", a * b)\n",
        "print(\"a / b =\",a / b)\n",
        "print(\"a // b =\", a // b)\n",
        "print(\"a ** b =\", a ** b)\n"
      ],
      "metadata": {
        "colab": {
          "base_uri": "https://localhost:8080/"
        },
        "id": "xXeuGfPaySbX",
        "outputId": "a5ef4b70-32cf-448b-c583-63e8e6fca45f"
      },
      "execution_count": null,
      "outputs": [
        {
          "output_type": "stream",
          "name": "stdout",
          "text": [
            "a + b = 15\n",
            "a - b = 5\n",
            "a * b = 50\n",
            "a / b = 2.0\n",
            "a // b = 2\n",
            "a ** b = 100000\n"
          ]
        }
      ]
    },
    {
      "cell_type": "markdown",
      "source": [
        "Konversi Nilai\n"
      ],
      "metadata": {
        "id": "5baZRxNj37Q0"
      }
    },
    {
      "cell_type": "code",
      "source": [
        "a=float(input(\"Masukkan bilangan a:\"))\n",
        "\n",
        "print(\"Hasil konversi nilai:\", int(a))\n",
        "print(\"Hasil konversi nilai:\", str(a))\n",
        "print(\"Hasil konversi nilai:\", round(a))"
      ],
      "metadata": {
        "colab": {
          "base_uri": "https://localhost:8080/"
        },
        "id": "EW-BFOX-3tFd",
        "outputId": "1ab2ad70-30b5-42d9-8a0a-97de5f029936"
      },
      "execution_count": null,
      "outputs": [
        {
          "output_type": "stream",
          "name": "stdout",
          "text": [
            "Masukkan bilangan a:10.5\n",
            "Hasil konversi nilai: 10\n",
            "Hasil konversi nilai: 10.5\n",
            "Hasil konversi nilai: 10\n"
          ]
        }
      ]
    },
    {
      "cell_type": "markdown",
      "source": [
        "Operator Relasional ==, !=, <, >, <=, >=."
      ],
      "metadata": {
        "id": "HRS7g45r-VP7"
      }
    },
    {
      "cell_type": "code",
      "source": [
        "x=int(input(\"Masukkan bilangan x:\"))\n",
        "y=int(input(\"Masukkan bilangan y:\"))\n",
        "\n",
        "print(\"x == y:\", x == y)\n",
        "print(\"x != y:\", x != y)\n",
        "print(\"x < y:\", x < y)\n",
        "print(\"x > y:\", x > y)\n",
        "print(\"x <= y:\", x <= y)\n",
        "print(\"x >= y:\", x >= y)"
      ],
      "metadata": {
        "colab": {
          "base_uri": "https://localhost:8080/"
        },
        "id": "2qLaWhpP8q6v",
        "outputId": "acfc7f35-ebb6-402d-b3c4-ff8b912e2578"
      },
      "execution_count": null,
      "outputs": [
        {
          "output_type": "stream",
          "name": "stdout",
          "text": [
            "Masukkan bilangan x:6\n",
            "Masukkan bilangan y:9\n",
            "x == y: False\n",
            "x != y: True\n",
            "x < y: True\n",
            "x > y: False\n",
            "x <= y: True\n",
            "x >= y: False\n"
          ]
        }
      ]
    },
    {
      "cell_type": "code",
      "source": [],
      "metadata": {
        "id": "OUei_qty_Gnl"
      },
      "execution_count": null,
      "outputs": []
    }
  ]
}